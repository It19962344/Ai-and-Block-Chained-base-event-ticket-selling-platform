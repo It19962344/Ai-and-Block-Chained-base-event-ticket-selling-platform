{
 "cells": [
  {
   "cell_type": "code",
   "execution_count": 1,
   "id": "db214d83",
   "metadata": {},
   "outputs": [],
   "source": [
    "import pandas as pd\n",
    "from sklearn.preprocessing import OneHotEncoder\n",
    "from sklearn.compose import ColumnTransformer\n",
    "from sklearn.preprocessing import MinMaxScaler\n",
    "from kmodes.kprototypes import KPrototypes\n",
    "from sklearn.model_selection import train_test_split\n",
    "from sklearn.decomposition import PCA\n",
    "import matplotlib.pyplot as plt"
   ]
  },
  {
   "cell_type": "code",
   "execution_count": 6,
   "id": "83fa87cc",
   "metadata": {},
   "outputs": [],
   "source": [
    "# !pip install kmodes"
   ]
  },
  {
   "cell_type": "code",
   "execution_count": 2,
   "id": "97c58a55",
   "metadata": {},
   "outputs": [],
   "source": [
    "sms_data = pd.read_csv('SMS campaing.csv')"
   ]
  },
  {
   "cell_type": "code",
   "execution_count": 3,
   "id": "d2dbb777",
   "metadata": {},
   "outputs": [
    {
     "data": {
      "text/html": [
       "<div>\n",
       "<style scoped>\n",
       "    .dataframe tbody tr th:only-of-type {\n",
       "        vertical-align: middle;\n",
       "    }\n",
       "\n",
       "    .dataframe tbody tr th {\n",
       "        vertical-align: top;\n",
       "    }\n",
       "\n",
       "    .dataframe thead th {\n",
       "        text-align: right;\n",
       "    }\n",
       "</style>\n",
       "<table border=\"1\" class=\"dataframe\">\n",
       "  <thead>\n",
       "    <tr style=\"text-align: right;\">\n",
       "      <th></th>\n",
       "      <th>Event Type</th>\n",
       "      <th>Event Venue</th>\n",
       "      <th>Event Genre</th>\n",
       "      <th>Preferred Day</th>\n",
       "      <th>Preferred Time</th>\n",
       "      <th>Age</th>\n",
       "    </tr>\n",
       "  </thead>\n",
       "  <tbody>\n",
       "    <tr>\n",
       "      <th>0</th>\n",
       "      <td>Indoor</td>\n",
       "      <td>Jaffna</td>\n",
       "      <td>Theater</td>\n",
       "      <td>Tuesday</td>\n",
       "      <td>Evening</td>\n",
       "      <td>47</td>\n",
       "    </tr>\n",
       "    <tr>\n",
       "      <th>1</th>\n",
       "      <td>Outdoor</td>\n",
       "      <td>Kandy</td>\n",
       "      <td>Music</td>\n",
       "      <td>Sunday</td>\n",
       "      <td>Morning</td>\n",
       "      <td>49</td>\n",
       "    </tr>\n",
       "    <tr>\n",
       "      <th>2</th>\n",
       "      <td>Outdoor</td>\n",
       "      <td>Matara</td>\n",
       "      <td>Theater</td>\n",
       "      <td>Sunday</td>\n",
       "      <td>Night</td>\n",
       "      <td>35</td>\n",
       "    </tr>\n",
       "    <tr>\n",
       "      <th>3</th>\n",
       "      <td>Outdoor</td>\n",
       "      <td>Hambantota</td>\n",
       "      <td>Comedy</td>\n",
       "      <td>Wednesday</td>\n",
       "      <td>Night</td>\n",
       "      <td>52</td>\n",
       "    </tr>\n",
       "    <tr>\n",
       "      <th>4</th>\n",
       "      <td>Outdoor</td>\n",
       "      <td>Kandy</td>\n",
       "      <td>Comedy</td>\n",
       "      <td>Monday</td>\n",
       "      <td>Night</td>\n",
       "      <td>60</td>\n",
       "    </tr>\n",
       "  </tbody>\n",
       "</table>\n",
       "</div>"
      ],
      "text/plain": [
       "  Event Type Event Venue Event Genre Preferred Day Preferred Time  Age\n",
       "0     Indoor      Jaffna     Theater       Tuesday        Evening   47\n",
       "1    Outdoor       Kandy       Music        Sunday        Morning   49\n",
       "2    Outdoor      Matara     Theater        Sunday          Night   35\n",
       "3    Outdoor  Hambantota      Comedy     Wednesday          Night   52\n",
       "4    Outdoor       Kandy      Comedy        Monday          Night   60"
      ]
     },
     "execution_count": 3,
     "metadata": {},
     "output_type": "execute_result"
    }
   ],
   "source": [
    "sms_data.head()"
   ]
  },
  {
   "cell_type": "code",
   "execution_count": 4,
   "id": "bdf30f81",
   "metadata": {},
   "outputs": [
    {
     "data": {
      "text/plain": [
       "(1000, 6)"
      ]
     },
     "execution_count": 4,
     "metadata": {},
     "output_type": "execute_result"
    }
   ],
   "source": [
    "sms_data.shape"
   ]
  },
  {
   "cell_type": "code",
   "execution_count": 5,
   "id": "4f0e3c15",
   "metadata": {},
   "outputs": [
    {
     "data": {
      "text/plain": [
       "Event Type        0\n",
       "Event Venue       0\n",
       "Event Genre       0\n",
       "Preferred Day     0\n",
       "Preferred Time    0\n",
       "Age               0\n",
       "dtype: int64"
      ]
     },
     "execution_count": 5,
     "metadata": {},
     "output_type": "execute_result"
    }
   ],
   "source": [
    "sms_data.isnull().sum()"
   ]
  },
  {
   "cell_type": "code",
   "execution_count": 6,
   "id": "aa00374e",
   "metadata": {
    "scrolled": true
   },
   "outputs": [
    {
     "data": {
      "text/plain": [
       "Event Type        object\n",
       "Event Venue       object\n",
       "Event Genre       object\n",
       "Preferred Day     object\n",
       "Preferred Time    object\n",
       "Age                int64\n",
       "dtype: object"
      ]
     },
     "execution_count": 6,
     "metadata": {},
     "output_type": "execute_result"
    }
   ],
   "source": [
    "sms_data.dtypes"
   ]
  },
  {
   "cell_type": "code",
   "execution_count": 7,
   "id": "8b2c140e",
   "metadata": {},
   "outputs": [
    {
     "data": {
      "text/plain": [
       "Index(['Event Type', 'Event Venue', 'Event Genre', 'Preferred Day',\n",
       "       'Preferred Time', 'Age'],\n",
       "      dtype='object')"
      ]
     },
     "execution_count": 7,
     "metadata": {},
     "output_type": "execute_result"
    }
   ],
   "source": [
    "sms_data.columns"
   ]
  },
  {
   "cell_type": "code",
   "execution_count": 8,
   "id": "8a0f73e7",
   "metadata": {
    "scrolled": true
   },
   "outputs": [
    {
     "name": "stdout",
     "output_type": "stream",
     "text": [
      "Unique values in 'Event Type': \u001b[1m['Indoor' 'Outdoor']\u001b[0m\n",
      "\n",
      "Unique values in 'Event Venue': \u001b[1m['Jaffna' 'Kandy' 'Matara' 'Hambantota' 'Kalutara' 'Galle' 'Kilinochchi'\n",
      " 'Colombo' 'Mannar' 'Nuwara Eliya' 'Ratnapura' 'Matale' 'Gampaha'\n",
      " 'Kegalle' 'Trincomalee' 'Ampara' 'Batticaloa']\u001b[0m\n",
      "\n",
      "Unique values in 'Event Genre': \u001b[1m['Theater' 'Music' 'Comedy' 'Festival']\u001b[0m\n",
      "\n",
      "Unique values in 'Preferred Day': \u001b[1m['Tuesday' 'Sunday' 'Wednesday' 'Monday' 'Thursday' 'Friday']\u001b[0m\n",
      "\n",
      "Unique values in 'Preferred Time': \u001b[1m['Evening' 'Morning' 'Night']\u001b[0m\n",
      "\n",
      "Unique values in 'Age': \u001b[1m[47 49 35 52 60 21 57 29 54 33 36 22 59 38 34 27 41 31 37 55 28 58 32 42\n",
      " 18 24 53 45 51 50 23 39 43 56 46 48 44 40 26 30 19 20 25]\u001b[0m\n",
      "\n"
     ]
    }
   ],
   "source": [
    "for column in sms_data.columns:\n",
    "    unique_values = sms_data[column].unique()\n",
    "    print(f\"Unique values in '{column}': \\033[1m{unique_values}\\033[0m\\n\")"
   ]
  },
  {
   "cell_type": "code",
   "execution_count": 9,
   "id": "e0362001",
   "metadata": {},
   "outputs": [],
   "source": [
    "# Define categorical features\n",
    "categorical_features = ['Event Type', 'Event Venue', 'Event Genre', 'Preferred Day', 'Preferred Time']"
   ]
  },
  {
   "cell_type": "code",
   "execution_count": null,
   "id": "0ed51178",
   "metadata": {},
   "outputs": [],
   "source": []
  },
  {
   "cell_type": "code",
   "execution_count": 10,
   "id": "8e6741e0",
   "metadata": {},
   "outputs": [],
   "source": [
    "# Define ColumnTransformer for one-hot encoding and scaling\n",
    "categorical_transformer = OneHotEncoder(sparse=False, handle_unknown='ignore')"
   ]
  },
  {
   "cell_type": "code",
   "execution_count": 11,
   "id": "ec789678",
   "metadata": {},
   "outputs": [],
   "source": [
    "preprocessor = ColumnTransformer(\n",
    "    transformers=[\n",
    "        ('cat', categorical_transformer, categorical_features),\n",
    "        ('num', MinMaxScaler(), ['Age'])\n",
    "    ])"
   ]
  },
  {
   "cell_type": "code",
   "execution_count": 12,
   "id": "851e0bef",
   "metadata": {},
   "outputs": [
    {
     "data": {
      "text/plain": [
       "tuple"
      ]
     },
     "execution_count": 12,
     "metadata": {},
     "output_type": "execute_result"
    }
   ],
   "source": [
    "type(('cat', categorical_transformer, categorical_features))"
   ]
  },
  {
   "cell_type": "code",
   "execution_count": null,
   "id": "435a284d",
   "metadata": {},
   "outputs": [],
   "source": []
  },
  {
   "cell_type": "code",
   "execution_count": 13,
   "id": "765fc7aa",
   "metadata": {
    "scrolled": true
   },
   "outputs": [
    {
     "name": "stderr",
     "output_type": "stream",
     "text": [
      "C:\\Users\\DELL\\anaconda3\\Lib\\site-packages\\sklearn\\preprocessing\\_encoders.py:972: FutureWarning: `sparse` was renamed to `sparse_output` in version 1.2 and will be removed in 1.4. `sparse_output` is ignored unless you leave `sparse` to its default value.\n",
      "  warnings.warn(\n"
     ]
    }
   ],
   "source": [
    "# Apply transformation\n",
    "X = preprocessor.fit_transform(sms_data)"
   ]
  },
  {
   "cell_type": "code",
   "execution_count": 14,
   "id": "d7a0c27a",
   "metadata": {},
   "outputs": [
    {
     "data": {
      "text/plain": [
       "33"
      ]
     },
     "execution_count": 14,
     "metadata": {},
     "output_type": "execute_result"
    }
   ],
   "source": [
    "len(X[0])"
   ]
  },
  {
   "cell_type": "code",
   "execution_count": 15,
   "id": "375191cb",
   "metadata": {},
   "outputs": [],
   "source": [
    "# Get indices of categorical columns (one-hot encoded columns)\n",
    "cat_features = preprocessor.named_transformers_['cat']\n",
    "n_categorical_features = len(cat_features.get_feature_names_out())\n",
    "categorical_columns = list(range(n_categorical_features))  # Indices for categorical features"
   ]
  },
  {
   "cell_type": "code",
   "execution_count": 16,
   "id": "ed412f5c",
   "metadata": {},
   "outputs": [],
   "source": [
    "# Split data into train and test\n",
    "df_train, df_test = train_test_split(X, test_size=0.3, random_state=42)"
   ]
  },
  {
   "cell_type": "code",
   "execution_count": 17,
   "id": "29b80189",
   "metadata": {},
   "outputs": [
    {
     "name": "stdout",
     "output_type": "stream",
     "text": [
      "0\n",
      "1\n",
      "2\n",
      "3\n",
      "4\n",
      "5\n",
      "6\n",
      "7\n",
      "8\n",
      "9\n"
     ]
    }
   ],
   "source": [
    "for k in range(10):\n",
    "    print(k)"
   ]
  },
  {
   "cell_type": "code",
   "execution_count": 18,
   "id": "8fbf0c56",
   "metadata": {},
   "outputs": [
    {
     "data": {
      "image/png": "[encoded data removed]",
      "text/plain": [
       "<Figure size 640x480 with 1 Axes>"
      ]
     },
     "metadata": {},
     "output_type": "display_data"
    }
   ],
   "source": [
    "# Elbow method to find optimal clusters\n",
    "costs = []\n",
    "for k in range(1, 11):\n",
    "    kproto = KPrototypes(n_clusters=k, init='Cao', n_init=10, verbose=0)\n",
    "    kproto.fit(X, categorical=categorical_columns)\n",
    "    costs.append(kproto.cost_)\n",
    "\n",
    "# Plot elbow curve\n",
    "plt.plot(range(1, 11), costs, marker='o')\n",
    "plt.xlabel('Number of Clusters')\n",
    "plt.ylabel('Cost')\n",
    "plt.title('Elbow Method for Optimal k')\n",
    "plt.show()"
   ]
  },
  {
   "cell_type": "code",
   "execution_count": 19,
   "id": "42ae052e",
   "metadata": {},
   "outputs": [
    {
     "name": "stdout",
     "output_type": "stream",
     "text": [
      "Initialization method and algorithm are deterministic. Setting n_init to 1.\n",
      "Init: initializing centroids\n",
      "Init: initializing clusters\n",
      "Starting iterations...\n",
      "Run: 1, iteration: 1/100, moves: 149, ncost: 478.0433120660702\n",
      "Run: 1, iteration: 2/100, moves: 0, ncost: 478.0433120660702\n",
      "Init: initializing centroids\n",
      "Init: initializing clusters\n",
      "Starting iterations...\n",
      "Run: 2, iteration: 1/100, moves: 211, ncost: 478.0621988078\n",
      "Run: 2, iteration: 2/100, moves: 4, ncost: 478.0433120660702\n",
      "Run: 2, iteration: 3/100, moves: 0, ncost: 478.0433120660702\n",
      "Init: initializing centroids\n",
      "Init: initializing clusters\n",
      "Starting iterations...\n",
      "Run: 3, iteration: 1/100, moves: 146, ncost: 478.0433120660702\n",
      "Run: 3, iteration: 2/100, moves: 0, ncost: 478.0433120660702\n",
      "Init: initializing centroids\n",
      "Init: initializing clusters\n",
      "Starting iterations...\n",
      "Run: 4, iteration: 1/100, moves: 141, ncost: 478.04331206607026\n",
      "Run: 4, iteration: 2/100, moves: 0, ncost: 478.04331206607026\n",
      "Init: initializing centroids\n",
      "Init: initializing clusters\n",
      "Starting iterations...\n",
      "Run: 5, iteration: 1/100, moves: 156, ncost: 478.0433120660702\n",
      "Run: 5, iteration: 2/100, moves: 0, ncost: 478.0433120660702\n",
      "Init: initializing centroids\n",
      "Init: initializing clusters\n",
      "Starting iterations...\n",
      "Run: 6, iteration: 1/100, moves: 207, ncost: 478.04455303495627\n",
      "Run: 6, iteration: 2/100, moves: 1, ncost: 478.0433120660702\n",
      "Run: 6, iteration: 3/100, moves: 0, ncost: 478.0433120660702\n",
      "Init: initializing centroids\n",
      "Init: initializing clusters\n",
      "Starting iterations...\n",
      "Run: 7, iteration: 1/100, moves: 142, ncost: 478.0433120660702\n",
      "Run: 7, iteration: 2/100, moves: 0, ncost: 478.0433120660702\n",
      "Init: initializing centroids\n",
      "Init: initializing clusters\n",
      "Starting iterations...\n",
      "Run: 8, iteration: 1/100, moves: 143, ncost: 478.0433120660702\n",
      "Run: 8, iteration: 2/100, moves: 0, ncost: 478.0433120660702\n",
      "Init: initializing centroids\n",
      "Init: initializing clusters\n",
      "Starting iterations...\n",
      "Run: 9, iteration: 1/100, moves: 164, ncost: 478.22556998668927\n",
      "Run: 9, iteration: 2/100, moves: 12, ncost: 478.04331206607026\n",
      "Run: 9, iteration: 3/100, moves: 0, ncost: 478.04331206607026\n",
      "Init: initializing centroids\n",
      "Init: initializing clusters\n",
      "Starting iterations...\n",
      "Run: 10, iteration: 1/100, moves: 154, ncost: 478.0433120660702\n",
      "Run: 10, iteration: 2/100, moves: 0, ncost: 478.0433120660702\n",
      "Best run was number 1\n"
     ]
    }
   ],
   "source": [
    "# Fit K-Prototypes with optimal number of clusters (e.g., 2 clusters)\n",
    "kproto = KPrototypes(n_clusters=2, init='Cao', n_init=10, verbose=2)\n",
    "clusters_train = kproto.fit_predict(df_train, categorical=categorical_columns)"
   ]
  },
  {
   "cell_type": "code",
   "execution_count": 20,
   "id": "6fd907c4",
   "metadata": {},
   "outputs": [],
   "source": [
    "# Reduce dimensionality for visualization using PCA\n",
    "pca = PCA(n_components=2)\n",
    "reduced_data_train = pca.fit_transform(df_train)"
   ]
  },
  {
   "cell_type": "code",
   "execution_count": 21,
   "id": "9ce050d4",
   "metadata": {},
   "outputs": [
    {
     "data": {
      "image/png": "[encoded data removed]",
      "text/plain": [
       "<Figure size 640x480 with 1 Axes>"
      ]
     },
     "metadata": {},
     "output_type": "display_data"
    }
   ],
   "source": [
    "# Visualize clusters for training data\n",
    "plt.scatter(reduced_data_train[:, 0], reduced_data_train[:, 1], c=clusters_train, cmap='viridis')\n",
    "plt.title('Training Data Cluster Visualization')\n",
    "plt.xlabel('PCA 1')\n",
    "plt.ylabel('PCA 2')\n",
    "plt.show()"
   ]
  },
  {
   "cell_type": "code",
   "execution_count": 22,
   "id": "1e0cde75",
   "metadata": {},
   "outputs": [],
   "source": [
    "# Predict clusters for the test data\n",
    "clusters_test = kproto.predict(df_test, categorical=categorical_columns)"
   ]
  },
  {
   "cell_type": "code",
   "execution_count": 23,
   "id": "730bb912",
   "metadata": {},
   "outputs": [],
   "source": [
    "# Reduce dimensionality for test data visualization\n",
    "reduced_data_test = pca.transform(df_test)"
   ]
  },
  {
   "cell_type": "code",
   "execution_count": 24,
   "id": "5329d28e",
   "metadata": {},
   "outputs": [
    {
     "data": {
      "image/png": "[encoded data removed]",
      "text/plain": [
       "<Figure size 640x480 with 1 Axes>"
      ]
     },
     "metadata": {},
     "output_type": "display_data"
    }
   ],
   "source": [
    "# Visualize clusters for test data\n",
    "plt.scatter(reduced_data_test[:, 0], reduced_data_test[:, 1], c=clusters_test, cmap='viridis')\n",
    "plt.title('Test Data Cluster Visualization')\n",
    "plt.xlabel('PCA 1')\n",
    "plt.ylabel('PCA 2')\n",
    "plt.show()"
   ]
  },
  {
   "cell_type": "code",
   "execution_count": 25,
   "id": "ce408928",
   "metadata": {},
   "outputs": [
    {
     "name": "stdout",
     "output_type": "stream",
     "text": [
      "\n",
      "Train Set with Cluster Assignments:\n",
      "     Feature 1  Feature 2  Feature 3  Feature 4  Feature 5  Feature 6  \\\n",
      "0          1.0        0.0        0.0        0.0        0.0        0.0   \n",
      "1          1.0        0.0        0.0        0.0        1.0        0.0   \n",
      "2          1.0        0.0        0.0        0.0        0.0        0.0   \n",
      "3          1.0        0.0        0.0        0.0        0.0        0.0   \n",
      "4          0.0        1.0        0.0        0.0        0.0        0.0   \n",
      "..         ...        ...        ...        ...        ...        ...   \n",
      "695        1.0        0.0        0.0        0.0        1.0        0.0   \n",
      "696        1.0        0.0        0.0        0.0        0.0        0.0   \n",
      "697        0.0        1.0        0.0        0.0        0.0        0.0   \n",
      "698        0.0        1.0        0.0        0.0        0.0        0.0   \n",
      "699        0.0        1.0        0.0        0.0        0.0        0.0   \n",
      "\n",
      "     Feature 7  Feature 8  Feature 9  Feature 10  ...  Feature 25  Feature 26  \\\n",
      "0          0.0        0.0        0.0         0.0  ...         0.0         0.0   \n",
      "1          0.0        0.0        0.0         0.0  ...         0.0         0.0   \n",
      "2          0.0        0.0        0.0         0.0  ...         0.0         0.0   \n",
      "3          0.0        0.0        0.0         0.0  ...         0.0         0.0   \n",
      "4          0.0        0.0        0.0         0.0  ...         0.0         0.0   \n",
      "..         ...        ...        ...         ...  ...         ...         ...   \n",
      "695        0.0        0.0        0.0         0.0  ...         0.0         0.0   \n",
      "696        0.0        0.0        0.0         0.0  ...         0.0         0.0   \n",
      "697        0.0        0.0        0.0         0.0  ...         0.0         1.0   \n",
      "698        0.0        0.0        0.0         0.0  ...         0.0         1.0   \n",
      "699        0.0        0.0        0.0         0.0  ...         0.0         1.0   \n",
      "\n",
      "     Feature 27  Feature 28  Feature 29  Feature 30  Feature 31  Feature 32  \\\n",
      "0           1.0         0.0         0.0         0.0         1.0         0.0   \n",
      "1           1.0         0.0         0.0         0.0         0.0         1.0   \n",
      "2           1.0         0.0         0.0         1.0         0.0         0.0   \n",
      "3           0.0         1.0         0.0         0.0         1.0         0.0   \n",
      "4           0.0         0.0         1.0         1.0         0.0         0.0   \n",
      "..          ...         ...         ...         ...         ...         ...   \n",
      "695         1.0         0.0         0.0         1.0         0.0         0.0   \n",
      "696         0.0         0.0         0.0         0.0         1.0         0.0   \n",
      "697         0.0         0.0         0.0         1.0         0.0         0.0   \n",
      "698         0.0         0.0         0.0         0.0         0.0         1.0   \n",
      "699         0.0         0.0         0.0         0.0         0.0         1.0   \n",
      "\n",
      "     Feature 33  Cluster  \n",
      "0      0.404762        0  \n",
      "1      0.809524        0  \n",
      "2      0.285714        0  \n",
      "3      0.071429        0  \n",
      "4      0.642857        1  \n",
      "..          ...      ...  \n",
      "695    0.000000        0  \n",
      "696    0.142857        0  \n",
      "697    0.404762        1  \n",
      "698    0.833333        1  \n",
      "699    0.380952        1  \n",
      "\n",
      "[700 rows x 34 columns]\n"
     ]
    }
   ],
   "source": [
    "# Create DataFrame for train and test clusters\n",
    "df_train_clustered = pd.DataFrame(df_train, columns=[f\"Feature {i+1}\" for i in range(df_train.shape[1])])\n",
    "df_train_clustered['Cluster'] = clusters_train\n",
    "print(\"\\nTrain Set with Cluster Assignments:\")\n",
    "print(df_train_clustered)"
   ]
  },
  {
   "cell_type": "code",
   "execution_count": 26,
   "id": "bb775b78",
   "metadata": {},
   "outputs": [
    {
     "name": "stdout",
     "output_type": "stream",
     "text": [
      "\n",
      "Test Set with Cluster Assignments:\n",
      "     Feature 1  Feature 2  Feature 3  Feature 4  Feature 5  Feature 6  \\\n",
      "0          0.0        1.0        0.0        0.0        0.0        0.0   \n",
      "1          1.0        0.0        0.0        0.0        0.0        0.0   \n",
      "2          1.0        0.0        0.0        1.0        0.0        0.0   \n",
      "3          1.0        0.0        0.0        0.0        0.0        1.0   \n",
      "4          1.0        0.0        0.0        0.0        0.0        0.0   \n",
      "..         ...        ...        ...        ...        ...        ...   \n",
      "295        1.0        0.0        0.0        0.0        0.0        0.0   \n",
      "296        1.0        0.0        0.0        0.0        0.0        0.0   \n",
      "297        1.0        0.0        0.0        0.0        0.0        0.0   \n",
      "298        1.0        0.0        0.0        0.0        0.0        1.0   \n",
      "299        1.0        0.0        0.0        0.0        0.0        0.0   \n",
      "\n",
      "     Feature 7  Feature 8  Feature 9  Feature 10  ...  Feature 25  Feature 26  \\\n",
      "0          0.0        0.0        0.0         0.0  ...         0.0         0.0   \n",
      "1          0.0        0.0        0.0         0.0  ...         0.0         0.0   \n",
      "2          0.0        0.0        0.0         0.0  ...         0.0         0.0   \n",
      "3          0.0        0.0        0.0         0.0  ...         0.0         0.0   \n",
      "4          0.0        1.0        0.0         0.0  ...         0.0         0.0   \n",
      "..         ...        ...        ...         ...  ...         ...         ...   \n",
      "295        0.0        0.0        0.0         0.0  ...         0.0         0.0   \n",
      "296        0.0        1.0        0.0         0.0  ...         0.0         0.0   \n",
      "297        0.0        1.0        0.0         0.0  ...         0.0         0.0   \n",
      "298        0.0        0.0        0.0         0.0  ...         0.0         1.0   \n",
      "299        0.0        0.0        0.0         0.0  ...         0.0         0.0   \n",
      "\n",
      "     Feature 27  Feature 28  Feature 29  Feature 30  Feature 31  Feature 32  \\\n",
      "0           0.0         1.0         0.0         0.0         0.0         1.0   \n",
      "1           0.0         0.0         1.0         0.0         0.0         1.0   \n",
      "2           0.0         0.0         0.0         1.0         0.0         0.0   \n",
      "3           0.0         1.0         0.0         0.0         0.0         1.0   \n",
      "4           0.0         1.0         0.0         1.0         0.0         0.0   \n",
      "..          ...         ...         ...         ...         ...         ...   \n",
      "295         1.0         0.0         0.0         0.0         0.0         1.0   \n",
      "296         1.0         0.0         0.0         1.0         0.0         0.0   \n",
      "297         0.0         0.0         0.0         0.0         1.0         0.0   \n",
      "298         0.0         0.0         0.0         0.0         0.0         1.0   \n",
      "299         0.0         0.0         0.0         1.0         0.0         0.0   \n",
      "\n",
      "     Feature 33  Cluster  \n",
      "0      0.619048        1  \n",
      "1      0.166667        0  \n",
      "2      0.547619        0  \n",
      "3      0.000000        0  \n",
      "4      0.952381        0  \n",
      "..          ...      ...  \n",
      "295    0.571429        0  \n",
      "296    0.476190        0  \n",
      "297    0.571429        0  \n",
      "298    0.690476        0  \n",
      "299    0.380952        0  \n",
      "\n",
      "[300 rows x 34 columns]\n"
     ]
    }
   ],
   "source": [
    "df_test_clustered = pd.DataFrame(df_test, columns=[f\"Feature {i+1}\" for i in range(df_test.shape[1])])\n",
    "df_test_clustered['Cluster'] = clusters_test\n",
    "print(\"\\nTest Set with Cluster Assignments:\")\n",
    "print(df_test_clustered)"
   ]
  },
  {
   "cell_type": "code",
   "execution_count": 27,
   "id": "5497ae87",
   "metadata": {},
   "outputs": [],
   "source": [
    "clusters = kproto.predict(X, categorical=categorical_columns)  # Use the same X used for fitting"
   ]
  },
  {
   "cell_type": "code",
   "execution_count": 28,
   "id": "f9f03079",
   "metadata": {},
   "outputs": [],
   "source": [
    "clustered_data = pd.DataFrame(sms_data)  # Create a DataFrame from the original data\n",
    "clustered_data['Cluster'] = clusters  # Add the cluster assignments"
   ]
  },
  {
   "cell_type": "code",
   "execution_count": 29,
   "id": "19e67b9d",
   "metadata": {
    "scrolled": true
   },
   "outputs": [
    {
     "data": {
      "text/html": [
       "<div>\n",
       "<style scoped>\n",
       "    .dataframe tbody tr th:only-of-type {\n",
       "        vertical-align: middle;\n",
       "    }\n",
       "\n",
       "    .dataframe tbody tr th {\n",
       "        vertical-align: top;\n",
       "    }\n",
       "\n",
       "    .dataframe thead th {\n",
       "        text-align: right;\n",
       "    }\n",
       "</style>\n",
       "<table border=\"1\" class=\"dataframe\">\n",
       "  <thead>\n",
       "    <tr style=\"text-align: right;\">\n",
       "      <th></th>\n",
       "      <th>Event Type</th>\n",
       "      <th>Event Venue</th>\n",
       "      <th>Event Genre</th>\n",
       "      <th>Preferred Day</th>\n",
       "      <th>Preferred Time</th>\n",
       "      <th>Age</th>\n",
       "      <th>Cluster</th>\n",
       "    </tr>\n",
       "  </thead>\n",
       "  <tbody>\n",
       "    <tr>\n",
       "      <th>0</th>\n",
       "      <td>Indoor</td>\n",
       "      <td>Jaffna</td>\n",
       "      <td>Theater</td>\n",
       "      <td>Tuesday</td>\n",
       "      <td>Evening</td>\n",
       "      <td>47</td>\n",
       "      <td>0</td>\n",
       "    </tr>\n",
       "    <tr>\n",
       "      <th>1</th>\n",
       "      <td>Outdoor</td>\n",
       "      <td>Kandy</td>\n",
       "      <td>Music</td>\n",
       "      <td>Sunday</td>\n",
       "      <td>Morning</td>\n",
       "      <td>49</td>\n",
       "      <td>1</td>\n",
       "    </tr>\n",
       "    <tr>\n",
       "      <th>2</th>\n",
       "      <td>Outdoor</td>\n",
       "      <td>Matara</td>\n",
       "      <td>Theater</td>\n",
       "      <td>Sunday</td>\n",
       "      <td>Night</td>\n",
       "      <td>35</td>\n",
       "      <td>1</td>\n",
       "    </tr>\n",
       "    <tr>\n",
       "      <th>3</th>\n",
       "      <td>Outdoor</td>\n",
       "      <td>Hambantota</td>\n",
       "      <td>Comedy</td>\n",
       "      <td>Wednesday</td>\n",
       "      <td>Night</td>\n",
       "      <td>52</td>\n",
       "      <td>1</td>\n",
       "    </tr>\n",
       "    <tr>\n",
       "      <th>4</th>\n",
       "      <td>Outdoor</td>\n",
       "      <td>Kandy</td>\n",
       "      <td>Comedy</td>\n",
       "      <td>Monday</td>\n",
       "      <td>Night</td>\n",
       "      <td>60</td>\n",
       "      <td>1</td>\n",
       "    </tr>\n",
       "    <tr>\n",
       "      <th>...</th>\n",
       "      <td>...</td>\n",
       "      <td>...</td>\n",
       "      <td>...</td>\n",
       "      <td>...</td>\n",
       "      <td>...</td>\n",
       "      <td>...</td>\n",
       "      <td>...</td>\n",
       "    </tr>\n",
       "    <tr>\n",
       "      <th>995</th>\n",
       "      <td>Outdoor</td>\n",
       "      <td>Galle</td>\n",
       "      <td>Music</td>\n",
       "      <td>Monday</td>\n",
       "      <td>Night</td>\n",
       "      <td>49</td>\n",
       "      <td>1</td>\n",
       "    </tr>\n",
       "    <tr>\n",
       "      <th>996</th>\n",
       "      <td>Outdoor</td>\n",
       "      <td>Ampara</td>\n",
       "      <td>Music</td>\n",
       "      <td>Monday</td>\n",
       "      <td>Evening</td>\n",
       "      <td>24</td>\n",
       "      <td>1</td>\n",
       "    </tr>\n",
       "    <tr>\n",
       "      <th>997</th>\n",
       "      <td>Indoor</td>\n",
       "      <td>Mannar</td>\n",
       "      <td>Festival</td>\n",
       "      <td>Monday</td>\n",
       "      <td>Morning</td>\n",
       "      <td>48</td>\n",
       "      <td>0</td>\n",
       "    </tr>\n",
       "    <tr>\n",
       "      <th>998</th>\n",
       "      <td>Outdoor</td>\n",
       "      <td>Ratnapura</td>\n",
       "      <td>Theater</td>\n",
       "      <td>Wednesday</td>\n",
       "      <td>Morning</td>\n",
       "      <td>58</td>\n",
       "      <td>1</td>\n",
       "    </tr>\n",
       "    <tr>\n",
       "      <th>999</th>\n",
       "      <td>Indoor</td>\n",
       "      <td>Galle</td>\n",
       "      <td>Music</td>\n",
       "      <td>Thursday</td>\n",
       "      <td>Morning</td>\n",
       "      <td>52</td>\n",
       "      <td>0</td>\n",
       "    </tr>\n",
       "  </tbody>\n",
       "</table>\n",
       "<p>1000 rows × 7 columns</p>\n",
       "</div>"
      ],
      "text/plain": [
       "    Event Type Event Venue Event Genre Preferred Day Preferred Time  Age  \\\n",
       "0       Indoor      Jaffna     Theater       Tuesday        Evening   47   \n",
       "1      Outdoor       Kandy       Music        Sunday        Morning   49   \n",
       "2      Outdoor      Matara     Theater        Sunday          Night   35   \n",
       "3      Outdoor  Hambantota      Comedy     Wednesday          Night   52   \n",
       "4      Outdoor       Kandy      Comedy        Monday          Night   60   \n",
       "..         ...         ...         ...           ...            ...  ...   \n",
       "995    Outdoor       Galle       Music        Monday          Night   49   \n",
       "996    Outdoor      Ampara       Music        Monday        Evening   24   \n",
       "997     Indoor      Mannar    Festival        Monday        Morning   48   \n",
       "998    Outdoor   Ratnapura     Theater     Wednesday        Morning   58   \n",
       "999     Indoor       Galle       Music      Thursday        Morning   52   \n",
       "\n",
       "     Cluster  \n",
       "0          0  \n",
       "1          1  \n",
       "2          1  \n",
       "3          1  \n",
       "4          1  \n",
       "..       ...  \n",
       "995        1  \n",
       "996        1  \n",
       "997        0  \n",
       "998        1  \n",
       "999        0  \n",
       "\n",
       "[1000 rows x 7 columns]"
      ]
     },
     "execution_count": 29,
     "metadata": {},
     "output_type": "execute_result"
    }
   ],
   "source": [
    "clustered_data"
   ]
  },
  {
   "cell_type": "markdown",
   "id": "158744ba",
   "metadata": {},
   "source": [
    "# testing"
   ]
  },
  {
   "cell_type": "code",
   "execution_count": 30,
   "id": "13cc6a60",
   "metadata": {},
   "outputs": [],
   "source": [
    "# Create a sample customer data DataFrame\n",
    "data = {\n",
    "    'Name': ['Alice', 'Bob', 'Charlie', 'David', 'Eva', 'Frank', 'Grace', 'Hannah', 'Ian', 'Jack'],\n",
    "    'PhoneNumber': ['+12345678901', '+12345678902', '+12345678903', '+12345678904', \n",
    "                    '+12345678905', '+12345678906', '+12345678907', '+12345678908', \n",
    "                    '+12345678909', '+12345678910'],\n",
    "    'Cluster': [0, 1, 0, 1, 0, 0, 1, 0, 1, 0]  # Assigning clusters for testing\n",
    "}\n",
    "\n",
    "customer_data = pd.DataFrame(data)"
   ]
  },
  {
   "cell_type": "code",
   "execution_count": null,
   "id": "5d66f5c3",
   "metadata": {},
   "outputs": [],
   "source": []
  },
  {
   "cell_type": "code",
   "execution_count": 31,
   "id": "4ec901cd",
   "metadata": {},
   "outputs": [
    {
     "name": "stdout",
     "output_type": "stream",
     "text": [
      "Transformed event data shape: (1, 33)\n",
      "Feature names: ['cat__Event Type_Indoor' 'cat__Event Type_Outdoor'\n",
      " 'cat__Event Venue_Ampara' 'cat__Event Venue_Batticaloa'\n",
      " 'cat__Event Venue_Colombo' 'cat__Event Venue_Galle'\n",
      " 'cat__Event Venue_Gampaha' 'cat__Event Venue_Hambantota'\n",
      " 'cat__Event Venue_Jaffna' 'cat__Event Venue_Kalutara'\n",
      " 'cat__Event Venue_Kandy' 'cat__Event Venue_Kegalle'\n",
      " 'cat__Event Venue_Kilinochchi' 'cat__Event Venue_Mannar'\n",
      " 'cat__Event Venue_Matale' 'cat__Event Venue_Matara'\n",
      " 'cat__Event Venue_Nuwara Eliya' 'cat__Event Venue_Ratnapura'\n",
      " 'cat__Event Venue_Trincomalee' 'cat__Event Genre_Comedy'\n",
      " 'cat__Event Genre_Festival' 'cat__Event Genre_Music'\n",
      " 'cat__Event Genre_Theater' 'cat__Preferred Day_Friday'\n",
      " 'cat__Preferred Day_Monday' 'cat__Preferred Day_Sunday'\n",
      " 'cat__Preferred Day_Thursday' 'cat__Preferred Day_Tuesday'\n",
      " 'cat__Preferred Day_Wednesday' 'cat__Preferred Time_Evening'\n",
      " 'cat__Preferred Time_Morning' 'cat__Preferred Time_Night' 'num__Age']\n",
      "The event belongs to Cluster 0.\n",
      "Number of customers in Cluster 0: 6\n",
      "Sending SMS to Alice at +12345678901\n",
      "Sending SMS to Charlie at +12345678903\n",
      "Sending SMS to Eva at +12345678905\n",
      "Sending SMS to Frank at +12345678906\n",
      "Sending SMS to Hannah at +12345678908\n",
      "Sending SMS to Jack at +12345678910\n"
     ]
    }
   ],
   "source": [
    "import pandas as pd\n",
    "\n",
    "# Event features provided by the event organizer\n",
    "event_features = [['Indoor', 'Jaffna', 'Theater', 'Tuesday', 'Evening', 20]]\n",
    "\n",
    "# Create a DataFrame with the same column names as the training data\n",
    "event_df = pd.DataFrame(event_features, columns=['Event Venue', 'Event Type', 'Event Genre', 'Preferred Day', 'Preferred Time', 'Age'])\n",
    "\n",
    "# Check for missing values\n",
    "if event_df.isnull().sum().any():\n",
    "    print(\"Error: Missing values in event features.\")\n",
    "else:\n",
    "    # Assuming preprocessor is already fitted (e.g., OneHotEncoder, etc.), apply the transformation\n",
    "    event_transformed = preprocessor.transform(event_df)\n",
    "    print(f\"Transformed event data shape: {event_transformed.shape}\")  # Check shape\n",
    "\n",
    "    # Get the feature names from the preprocessor\n",
    "    feature_names = preprocessor.get_feature_names_out()\n",
    "    print(f\"Feature names: {feature_names}\")\n",
    "\n",
    "    # Specify which columns are categorical based on the transformed feature names\n",
    "    categorical_columns = [i for i, name in enumerate(feature_names) if 'Age' not in name]  # Exclude 'Age'\n",
    "\n",
    "    # Predict the cluster for the event\n",
    "    try:\n",
    "        event_cluster = kproto.predict(event_transformed, categorical=categorical_columns)\n",
    "        print(f\"The event belongs to Cluster {event_cluster[0]}.\")\n",
    "\n",
    "        # Retrieve customers in this cluster\n",
    "        target_customers = customer_data[customer_data['Cluster'] == event_cluster[0]]\n",
    "        print(f\"Number of customers in Cluster {event_cluster[0]}: {len(target_customers)}\")\n",
    "\n",
    "        # Send SMS to these customers\n",
    "        for customer in target_customers.itertuples():\n",
    "            print(f\"Sending SMS to {customer.Name} at {customer.PhoneNumber}\")\n",
    "    except Exception as e:\n",
    "        print(f\"Error during prediction: {e}\")"
   ]
  },
  {
   "cell_type": "code",
   "execution_count": null,
   "id": "e462c7b9",
   "metadata": {},
   "outputs": [],
   "source": []
  },
  {
   "cell_type": "code",
   "execution_count": null,
   "id": "0ceee49b",
   "metadata": {},
   "outputs": [],
   "source": []
  },
  {
   "cell_type": "code",
   "execution_count": null,
   "id": "b81c4483",
   "metadata": {},
   "outputs": [],
   "source": []
  }
 ],
 "metadata": {
  "kernelspec": {
   "display_name": "Python 3 (ipykernel)",
   "language": "python",
   "name": "python3"
  },
  "language_info": {
   "codemirror_mode": {
    "name": "ipython",
    "version": 3
   },
   "file_extension": ".py",
   "mimetype": "text/x-python",
   "name": "python",
   "nbconvert_exporter": "python",
   "pygments_lexer": "ipython3",
   "version": "3.11.4"
  }
 },
 "nbformat": 4,
 "nbformat_minor": 5
}
